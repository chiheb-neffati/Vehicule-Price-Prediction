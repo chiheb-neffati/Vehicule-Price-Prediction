{
 "cells": [
  {
   "cell_type": "markdown",
   "id": "f1e1e572",
   "metadata": {},
   "source": [
    "# Car prices prediction "
   ]
  },
  {
   "cell_type": "code",
   "execution_count": 1,
   "id": "b77df201",
   "metadata": {},
   "outputs": [],
   "source": [
    "import pandas as pd\n",
    "import numpy as np\n",
    "import matplotlib.pyplot as plt\n",
    "import seaborn as sb\n",
    "import pickle \n",
    "from sklearn.model_selection import train_test_split\n",
    "from sklearn.pipeline import make_pipeline\n",
    "from sklearn.preprocessing import StandardScaler\n",
    "from sklearn.neural_network import MLPRegressor"
   ]
  },
  {
   "cell_type": "markdown",
   "id": "840f289f",
   "metadata": {},
   "source": [
    "## Dataset Exploration :"
   ]
  },
  {
   "cell_type": "code",
   "execution_count": 2,
   "id": "a2ee0fdf",
   "metadata": {},
   "outputs": [
    {
     "data": {
      "text/html": [
       "<div>\n",
       "<style scoped>\n",
       "    .dataframe tbody tr th:only-of-type {\n",
       "        vertical-align: middle;\n",
       "    }\n",
       "\n",
       "    .dataframe tbody tr th {\n",
       "        vertical-align: top;\n",
       "    }\n",
       "\n",
       "    .dataframe thead th {\n",
       "        text-align: right;\n",
       "    }\n",
       "</style>\n",
       "<table border=\"1\" class=\"dataframe\">\n",
       "  <thead>\n",
       "    <tr style=\"text-align: right;\">\n",
       "      <th></th>\n",
       "      <th>name</th>\n",
       "      <th>year</th>\n",
       "      <th>selling_price</th>\n",
       "      <th>km_driven</th>\n",
       "      <th>fuel</th>\n",
       "      <th>seller_type</th>\n",
       "      <th>transmission</th>\n",
       "      <th>owner</th>\n",
       "      <th>mileage</th>\n",
       "      <th>engine</th>\n",
       "      <th>max_power</th>\n",
       "      <th>torque</th>\n",
       "      <th>seats</th>\n",
       "    </tr>\n",
       "  </thead>\n",
       "  <tbody>\n",
       "    <tr>\n",
       "      <th>0</th>\n",
       "      <td>Maruti Swift Dzire VDI</td>\n",
       "      <td>2014</td>\n",
       "      <td>450000</td>\n",
       "      <td>145500</td>\n",
       "      <td>Diesel</td>\n",
       "      <td>Individual</td>\n",
       "      <td>Manual</td>\n",
       "      <td>First Owner</td>\n",
       "      <td>23.4 kmpl</td>\n",
       "      <td>1248 CC</td>\n",
       "      <td>74 bhp</td>\n",
       "      <td>190Nm@ 2000rpm</td>\n",
       "      <td>5.0</td>\n",
       "    </tr>\n",
       "    <tr>\n",
       "      <th>1</th>\n",
       "      <td>Skoda Rapid 1.5 TDI Ambition</td>\n",
       "      <td>2014</td>\n",
       "      <td>370000</td>\n",
       "      <td>120000</td>\n",
       "      <td>Diesel</td>\n",
       "      <td>Individual</td>\n",
       "      <td>Manual</td>\n",
       "      <td>Second Owner</td>\n",
       "      <td>21.14 kmpl</td>\n",
       "      <td>1498 CC</td>\n",
       "      <td>103.52 bhp</td>\n",
       "      <td>250Nm@ 1500-2500rpm</td>\n",
       "      <td>5.0</td>\n",
       "    </tr>\n",
       "    <tr>\n",
       "      <th>2</th>\n",
       "      <td>Honda City 2017-2020 EXi</td>\n",
       "      <td>2006</td>\n",
       "      <td>158000</td>\n",
       "      <td>140000</td>\n",
       "      <td>Petrol</td>\n",
       "      <td>Individual</td>\n",
       "      <td>Manual</td>\n",
       "      <td>Third Owner</td>\n",
       "      <td>17.7 kmpl</td>\n",
       "      <td>1497 CC</td>\n",
       "      <td>78 bhp</td>\n",
       "      <td>12.7@ 2,700(kgm@ rpm)</td>\n",
       "      <td>5.0</td>\n",
       "    </tr>\n",
       "    <tr>\n",
       "      <th>3</th>\n",
       "      <td>Hyundai i20 Sportz Diesel</td>\n",
       "      <td>2010</td>\n",
       "      <td>225000</td>\n",
       "      <td>127000</td>\n",
       "      <td>Diesel</td>\n",
       "      <td>Individual</td>\n",
       "      <td>Manual</td>\n",
       "      <td>First Owner</td>\n",
       "      <td>23.0 kmpl</td>\n",
       "      <td>1396 CC</td>\n",
       "      <td>90 bhp</td>\n",
       "      <td>22.4 kgm at 1750-2750rpm</td>\n",
       "      <td>5.0</td>\n",
       "    </tr>\n",
       "    <tr>\n",
       "      <th>4</th>\n",
       "      <td>Maruti Swift VXI BSIII</td>\n",
       "      <td>2007</td>\n",
       "      <td>130000</td>\n",
       "      <td>120000</td>\n",
       "      <td>Petrol</td>\n",
       "      <td>Individual</td>\n",
       "      <td>Manual</td>\n",
       "      <td>First Owner</td>\n",
       "      <td>16.1 kmpl</td>\n",
       "      <td>1298 CC</td>\n",
       "      <td>88.2 bhp</td>\n",
       "      <td>11.5@ 4,500(kgm@ rpm)</td>\n",
       "      <td>5.0</td>\n",
       "    </tr>\n",
       "  </tbody>\n",
       "</table>\n",
       "</div>"
      ],
      "text/plain": [
       "                           name  year  selling_price  km_driven    fuel  \\\n",
       "0        Maruti Swift Dzire VDI  2014         450000     145500  Diesel   \n",
       "1  Skoda Rapid 1.5 TDI Ambition  2014         370000     120000  Diesel   \n",
       "2      Honda City 2017-2020 EXi  2006         158000     140000  Petrol   \n",
       "3     Hyundai i20 Sportz Diesel  2010         225000     127000  Diesel   \n",
       "4        Maruti Swift VXI BSIII  2007         130000     120000  Petrol   \n",
       "\n",
       "  seller_type transmission         owner     mileage   engine   max_power  \\\n",
       "0  Individual       Manual   First Owner   23.4 kmpl  1248 CC      74 bhp   \n",
       "1  Individual       Manual  Second Owner  21.14 kmpl  1498 CC  103.52 bhp   \n",
       "2  Individual       Manual   Third Owner   17.7 kmpl  1497 CC      78 bhp   \n",
       "3  Individual       Manual   First Owner   23.0 kmpl  1396 CC      90 bhp   \n",
       "4  Individual       Manual   First Owner   16.1 kmpl  1298 CC    88.2 bhp   \n",
       "\n",
       "                     torque  seats  \n",
       "0            190Nm@ 2000rpm    5.0  \n",
       "1       250Nm@ 1500-2500rpm    5.0  \n",
       "2     12.7@ 2,700(kgm@ rpm)    5.0  \n",
       "3  22.4 kgm at 1750-2750rpm    5.0  \n",
       "4     11.5@ 4,500(kgm@ rpm)    5.0  "
      ]
     },
     "execution_count": 2,
     "metadata": {},
     "output_type": "execute_result"
    }
   ],
   "source": [
    "DataSet = pd.read_csv(\"DataSet.csv\")\n",
    "\n",
    "DataSet.head()"
   ]
  },
  {
   "cell_type": "code",
   "execution_count": 3,
   "id": "5e60d30c",
   "metadata": {},
   "outputs": [
    {
     "data": {
      "text/plain": [
       "(8128, 13)"
      ]
     },
     "execution_count": 3,
     "metadata": {},
     "output_type": "execute_result"
    }
   ],
   "source": [
    "DataSet.shape"
   ]
  },
  {
   "cell_type": "code",
   "execution_count": 4,
   "id": "12fd4772",
   "metadata": {},
   "outputs": [
    {
     "data": {
      "text/plain": [
       "name              object\n",
       "year               int64\n",
       "selling_price      int64\n",
       "km_driven          int64\n",
       "fuel              object\n",
       "seller_type       object\n",
       "transmission      object\n",
       "owner             object\n",
       "mileage           object\n",
       "engine            object\n",
       "max_power         object\n",
       "torque            object\n",
       "seats            float64\n",
       "dtype: object"
      ]
     },
     "execution_count": 4,
     "metadata": {},
     "output_type": "execute_result"
    }
   ],
   "source": [
    "DataSet.dtypes"
   ]
  },
  {
   "cell_type": "code",
   "execution_count": 5,
   "id": "fa126cbc",
   "metadata": {},
   "outputs": [
    {
     "data": {
      "text/plain": [
       "name               0\n",
       "year               0\n",
       "selling_price      0\n",
       "km_driven          0\n",
       "fuel               0\n",
       "seller_type        0\n",
       "transmission       0\n",
       "owner              0\n",
       "mileage          221\n",
       "engine           221\n",
       "max_power        215\n",
       "torque           222\n",
       "seats            221\n",
       "dtype: int64"
      ]
     },
     "execution_count": 5,
     "metadata": {},
     "output_type": "execute_result"
    }
   ],
   "source": [
    "DataSet.isnull().sum()"
   ]
  },
  {
   "cell_type": "markdown",
   "id": "21ca1f5a",
   "metadata": {},
   "source": [
    "We can see that this dataset contains some rows that have empty cells (NaN), In this case we are going to get rid of those rows but we can for example replace those cells with their colmn's mean value"
   ]
  },
  {
   "cell_type": "code",
   "execution_count": 6,
   "id": "2d3c3770",
   "metadata": {},
   "outputs": [
    {
     "data": {
      "text/plain": [
       "0"
      ]
     },
     "execution_count": 6,
     "metadata": {},
     "output_type": "execute_result"
    }
   ],
   "source": [
    "DataSet = DataSet.dropna()\n",
    "DataSet.isnull().sum().sum()\n"
   ]
  },
  {
   "cell_type": "markdown",
   "id": "9b67a91e",
   "metadata": {},
   "source": [
    "Here, we create 2 functions :\n",
    "* Numerise : which will help us replace string columns with number (for example : for the transmission column manual is replaced with 0 and automatic is replaced with 1)\n",
    "* ExtractNum : which will help us extract numerical features from cell (for example : 32 kmpl becomes 32)"
   ]
  },
  {
   "cell_type": "code",
   "execution_count": 7,
   "id": "fbab5c2e",
   "metadata": {},
   "outputs": [],
   "source": [
    "def Numerise(DF, Column):\n",
    "    x = pd.Series(DF[Column])\n",
    "    col = pd.factorize(x)\n",
    "    return col"
   ]
  },
  {
   "cell_type": "code",
   "execution_count": 8,
   "id": "3064eeb4",
   "metadata": {},
   "outputs": [],
   "source": [
    "def ExtractNum(DF, Column):\n",
    "    x = pd.Series(DF[Column])\n",
    "    x = x.astype('str').str.extractall('(\\d+)').unstack().fillna('').sum(axis=1).astype(int)\n",
    "    return np.array(x)"
   ]
  },
  {
   "cell_type": "code",
   "execution_count": 9,
   "id": "ec0aa569",
   "metadata": {},
   "outputs": [
    {
     "data": {
      "text/plain": [
       "name              object\n",
       "year               int64\n",
       "selling_price      int64\n",
       "km_driven          int64\n",
       "fuel              object\n",
       "seller_type       object\n",
       "transmission      object\n",
       "owner             object\n",
       "mileage           object\n",
       "engine            object\n",
       "max_power         object\n",
       "torque            object\n",
       "seats            float64\n",
       "dtype: object"
      ]
     },
     "execution_count": 9,
     "metadata": {},
     "output_type": "execute_result"
    }
   ],
   "source": [
    "DataSet.dtypes"
   ]
  },
  {
   "cell_type": "markdown",
   "id": "cc1ab221",
   "metadata": {},
   "source": [
    "And finally here we are creating a new DataFrame containing nothing but numerical values, some columns are discarded either because their features are inconsistent(Torque), or because they offer no use in our case(Name)"
   ]
  },
  {
   "cell_type": "code",
   "execution_count": 10,
   "id": "33e02156",
   "metadata": {},
   "outputs": [
    {
     "data": {
      "text/html": [
       "<div>\n",
       "<style scoped>\n",
       "    .dataframe tbody tr th:only-of-type {\n",
       "        vertical-align: middle;\n",
       "    }\n",
       "\n",
       "    .dataframe tbody tr th {\n",
       "        vertical-align: top;\n",
       "    }\n",
       "\n",
       "    .dataframe thead th {\n",
       "        text-align: right;\n",
       "    }\n",
       "</style>\n",
       "<table border=\"1\" class=\"dataframe\">\n",
       "  <thead>\n",
       "    <tr style=\"text-align: right;\">\n",
       "      <th></th>\n",
       "      <th>year</th>\n",
       "      <th>SellingPrice</th>\n",
       "      <th>kmDriven</th>\n",
       "      <th>fuel</th>\n",
       "      <th>Seller</th>\n",
       "      <th>transmission</th>\n",
       "      <th>owner</th>\n",
       "      <th>mileage</th>\n",
       "      <th>engine</th>\n",
       "      <th>maxPower</th>\n",
       "      <th>Seats</th>\n",
       "    </tr>\n",
       "  </thead>\n",
       "  <tbody>\n",
       "    <tr>\n",
       "      <th>0</th>\n",
       "      <td>2014</td>\n",
       "      <td>450000</td>\n",
       "      <td>145500</td>\n",
       "      <td>0</td>\n",
       "      <td>0</td>\n",
       "      <td>0</td>\n",
       "      <td>0</td>\n",
       "      <td>234</td>\n",
       "      <td>1248</td>\n",
       "      <td>74</td>\n",
       "      <td>5.0</td>\n",
       "    </tr>\n",
       "    <tr>\n",
       "      <th>1</th>\n",
       "      <td>2014</td>\n",
       "      <td>370000</td>\n",
       "      <td>120000</td>\n",
       "      <td>0</td>\n",
       "      <td>0</td>\n",
       "      <td>0</td>\n",
       "      <td>1</td>\n",
       "      <td>2114</td>\n",
       "      <td>1498</td>\n",
       "      <td>10352</td>\n",
       "      <td>5.0</td>\n",
       "    </tr>\n",
       "    <tr>\n",
       "      <th>2</th>\n",
       "      <td>2006</td>\n",
       "      <td>158000</td>\n",
       "      <td>140000</td>\n",
       "      <td>1</td>\n",
       "      <td>0</td>\n",
       "      <td>0</td>\n",
       "      <td>2</td>\n",
       "      <td>177</td>\n",
       "      <td>1497</td>\n",
       "      <td>78</td>\n",
       "      <td>5.0</td>\n",
       "    </tr>\n",
       "    <tr>\n",
       "      <th>3</th>\n",
       "      <td>2010</td>\n",
       "      <td>225000</td>\n",
       "      <td>127000</td>\n",
       "      <td>0</td>\n",
       "      <td>0</td>\n",
       "      <td>0</td>\n",
       "      <td>0</td>\n",
       "      <td>230</td>\n",
       "      <td>1396</td>\n",
       "      <td>90</td>\n",
       "      <td>5.0</td>\n",
       "    </tr>\n",
       "    <tr>\n",
       "      <th>4</th>\n",
       "      <td>2007</td>\n",
       "      <td>130000</td>\n",
       "      <td>120000</td>\n",
       "      <td>1</td>\n",
       "      <td>0</td>\n",
       "      <td>0</td>\n",
       "      <td>0</td>\n",
       "      <td>161</td>\n",
       "      <td>1298</td>\n",
       "      <td>882</td>\n",
       "      <td>5.0</td>\n",
       "    </tr>\n",
       "    <tr>\n",
       "      <th>...</th>\n",
       "      <td>...</td>\n",
       "      <td>...</td>\n",
       "      <td>...</td>\n",
       "      <td>...</td>\n",
       "      <td>...</td>\n",
       "      <td>...</td>\n",
       "      <td>...</td>\n",
       "      <td>...</td>\n",
       "      <td>...</td>\n",
       "      <td>...</td>\n",
       "      <td>...</td>\n",
       "    </tr>\n",
       "    <tr>\n",
       "      <th>7901</th>\n",
       "      <td>2013</td>\n",
       "      <td>320000</td>\n",
       "      <td>110000</td>\n",
       "      <td>1</td>\n",
       "      <td>0</td>\n",
       "      <td>0</td>\n",
       "      <td>0</td>\n",
       "      <td>185</td>\n",
       "      <td>1197</td>\n",
       "      <td>8285</td>\n",
       "      <td>5.0</td>\n",
       "    </tr>\n",
       "    <tr>\n",
       "      <th>7902</th>\n",
       "      <td>2007</td>\n",
       "      <td>135000</td>\n",
       "      <td>119000</td>\n",
       "      <td>0</td>\n",
       "      <td>0</td>\n",
       "      <td>0</td>\n",
       "      <td>3</td>\n",
       "      <td>168</td>\n",
       "      <td>1493</td>\n",
       "      <td>110</td>\n",
       "      <td>5.0</td>\n",
       "    </tr>\n",
       "    <tr>\n",
       "      <th>7903</th>\n",
       "      <td>2009</td>\n",
       "      <td>382000</td>\n",
       "      <td>120000</td>\n",
       "      <td>0</td>\n",
       "      <td>0</td>\n",
       "      <td>0</td>\n",
       "      <td>0</td>\n",
       "      <td>193</td>\n",
       "      <td>1248</td>\n",
       "      <td>739</td>\n",
       "      <td>5.0</td>\n",
       "    </tr>\n",
       "    <tr>\n",
       "      <th>7904</th>\n",
       "      <td>2013</td>\n",
       "      <td>290000</td>\n",
       "      <td>25000</td>\n",
       "      <td>0</td>\n",
       "      <td>0</td>\n",
       "      <td>0</td>\n",
       "      <td>0</td>\n",
       "      <td>2357</td>\n",
       "      <td>1396</td>\n",
       "      <td>70</td>\n",
       "      <td>5.0</td>\n",
       "    </tr>\n",
       "    <tr>\n",
       "      <th>7905</th>\n",
       "      <td>2013</td>\n",
       "      <td>290000</td>\n",
       "      <td>25000</td>\n",
       "      <td>0</td>\n",
       "      <td>0</td>\n",
       "      <td>0</td>\n",
       "      <td>0</td>\n",
       "      <td>2357</td>\n",
       "      <td>1396</td>\n",
       "      <td>70</td>\n",
       "      <td>5.0</td>\n",
       "    </tr>\n",
       "  </tbody>\n",
       "</table>\n",
       "<p>7906 rows × 11 columns</p>\n",
       "</div>"
      ],
      "text/plain": [
       "      year  SellingPrice  kmDriven  fuel  Seller  transmission  owner  \\\n",
       "0     2014        450000    145500     0       0             0      0   \n",
       "1     2014        370000    120000     0       0             0      1   \n",
       "2     2006        158000    140000     1       0             0      2   \n",
       "3     2010        225000    127000     0       0             0      0   \n",
       "4     2007        130000    120000     1       0             0      0   \n",
       "...    ...           ...       ...   ...     ...           ...    ...   \n",
       "7901  2013        320000    110000     1       0             0      0   \n",
       "7902  2007        135000    119000     0       0             0      3   \n",
       "7903  2009        382000    120000     0       0             0      0   \n",
       "7904  2013        290000     25000     0       0             0      0   \n",
       "7905  2013        290000     25000     0       0             0      0   \n",
       "\n",
       "      mileage  engine  maxPower  Seats  \n",
       "0         234    1248        74    5.0  \n",
       "1        2114    1498     10352    5.0  \n",
       "2         177    1497        78    5.0  \n",
       "3         230    1396        90    5.0  \n",
       "4         161    1298       882    5.0  \n",
       "...       ...     ...       ...    ...  \n",
       "7901      185    1197      8285    5.0  \n",
       "7902      168    1493       110    5.0  \n",
       "7903      193    1248       739    5.0  \n",
       "7904     2357    1396        70    5.0  \n",
       "7905     2357    1396        70    5.0  \n",
       "\n",
       "[7906 rows x 11 columns]"
      ]
     },
     "execution_count": 10,
     "metadata": {},
     "output_type": "execute_result"
    }
   ],
   "source": [
    "NewDataSet = pd.DataFrame({\"year\" : np.array(DataSet[\"year\"]),\n",
    "                           \"SellingPrice\" : np.array(DataSet[\"selling_price\"]),\n",
    "                           \"kmDriven\" : np.array(DataSet[\"km_driven\"]),\n",
    "                           \"fuel\" : Numerise(DataSet, \"fuel\")[0],\n",
    "                           \"Seller\" : Numerise(DataSet, \"seller_type\")[0],\n",
    "                           \"transmission\" : Numerise(DataSet, \"transmission\")[0],\n",
    "                           \"owner\" : Numerise(DataSet, \"owner\")[0],\n",
    "                           \"mileage\" : ExtractNum(DataSet, \"mileage\"),\n",
    "                           \"engine\" : ExtractNum(DataSet, \"engine\"),\n",
    "                           \"maxPower\" : ExtractNum(DataSet, \"max_power\"),\n",
    "                           \"Seats\" : np.array(DataSet[\"seats\"]),\n",
    "                          })\n",
    "NewDataSet\n"
   ]
  },
  {
   "cell_type": "code",
   "execution_count": 11,
   "id": "63cab515",
   "metadata": {},
   "outputs": [
    {
     "data": {
      "text/html": [
       "<div>\n",
       "<style scoped>\n",
       "    .dataframe tbody tr th:only-of-type {\n",
       "        vertical-align: middle;\n",
       "    }\n",
       "\n",
       "    .dataframe tbody tr th {\n",
       "        vertical-align: top;\n",
       "    }\n",
       "\n",
       "    .dataframe thead th {\n",
       "        text-align: right;\n",
       "    }\n",
       "</style>\n",
       "<table border=\"1\" class=\"dataframe\">\n",
       "  <thead>\n",
       "    <tr style=\"text-align: right;\">\n",
       "      <th></th>\n",
       "      <th>year</th>\n",
       "      <th>SellingPrice</th>\n",
       "      <th>kmDriven</th>\n",
       "      <th>fuel</th>\n",
       "      <th>Seller</th>\n",
       "      <th>transmission</th>\n",
       "      <th>owner</th>\n",
       "      <th>mileage</th>\n",
       "      <th>engine</th>\n",
       "      <th>maxPower</th>\n",
       "      <th>Seats</th>\n",
       "    </tr>\n",
       "  </thead>\n",
       "  <tbody>\n",
       "    <tr>\n",
       "      <th>count</th>\n",
       "      <td>7906.000000</td>\n",
       "      <td>7.906000e+03</td>\n",
       "      <td>7.906000e+03</td>\n",
       "      <td>7906.000000</td>\n",
       "      <td>7906.000000</td>\n",
       "      <td>7906.000000</td>\n",
       "      <td>7906.000000</td>\n",
       "      <td>7906.000000</td>\n",
       "      <td>7906.000000</td>\n",
       "      <td>7906.000000</td>\n",
       "      <td>7906.000000</td>\n",
       "    </tr>\n",
       "    <tr>\n",
       "      <th>mean</th>\n",
       "      <td>2013.983936</td>\n",
       "      <td>6.498137e+05</td>\n",
       "      <td>6.918866e+04</td>\n",
       "      <td>0.473817</td>\n",
       "      <td>0.199722</td>\n",
       "      <td>0.131672</td>\n",
       "      <td>0.447255</td>\n",
       "      <td>947.702378</td>\n",
       "      <td>1458.708829</td>\n",
       "      <td>2766.125348</td>\n",
       "      <td>5.416393</td>\n",
       "    </tr>\n",
       "    <tr>\n",
       "      <th>std</th>\n",
       "      <td>3.863695</td>\n",
       "      <td>8.135827e+05</td>\n",
       "      <td>5.679230e+04</td>\n",
       "      <td>0.545591</td>\n",
       "      <td>0.468575</td>\n",
       "      <td>0.338155</td>\n",
       "      <td>0.710854</td>\n",
       "      <td>925.336832</td>\n",
       "      <td>503.893057</td>\n",
       "      <td>5162.123778</td>\n",
       "      <td>0.959208</td>\n",
       "    </tr>\n",
       "    <tr>\n",
       "      <th>min</th>\n",
       "      <td>1994.000000</td>\n",
       "      <td>2.999900e+04</td>\n",
       "      <td>1.000000e+00</td>\n",
       "      <td>0.000000</td>\n",
       "      <td>0.000000</td>\n",
       "      <td>0.000000</td>\n",
       "      <td>0.000000</td>\n",
       "      <td>0.000000</td>\n",
       "      <td>624.000000</td>\n",
       "      <td>35.000000</td>\n",
       "      <td>2.000000</td>\n",
       "    </tr>\n",
       "    <tr>\n",
       "      <th>25%</th>\n",
       "      <td>2012.000000</td>\n",
       "      <td>2.700000e+05</td>\n",
       "      <td>3.500000e+04</td>\n",
       "      <td>0.000000</td>\n",
       "      <td>0.000000</td>\n",
       "      <td>0.000000</td>\n",
       "      <td>0.000000</td>\n",
       "      <td>185.000000</td>\n",
       "      <td>1197.000000</td>\n",
       "      <td>100.000000</td>\n",
       "      <td>5.000000</td>\n",
       "    </tr>\n",
       "    <tr>\n",
       "      <th>50%</th>\n",
       "      <td>2015.000000</td>\n",
       "      <td>4.500000e+05</td>\n",
       "      <td>6.000000e+04</td>\n",
       "      <td>0.000000</td>\n",
       "      <td>0.000000</td>\n",
       "      <td>0.000000</td>\n",
       "      <td>0.000000</td>\n",
       "      <td>240.000000</td>\n",
       "      <td>1248.000000</td>\n",
       "      <td>739.000000</td>\n",
       "      <td>5.000000</td>\n",
       "    </tr>\n",
       "    <tr>\n",
       "      <th>75%</th>\n",
       "      <td>2017.000000</td>\n",
       "      <td>6.900000e+05</td>\n",
       "      <td>9.542500e+04</td>\n",
       "      <td>1.000000</td>\n",
       "      <td>0.000000</td>\n",
       "      <td>0.000000</td>\n",
       "      <td>1.000000</td>\n",
       "      <td>1944.000000</td>\n",
       "      <td>1582.000000</td>\n",
       "      <td>3748.000000</td>\n",
       "      <td>5.000000</td>\n",
       "    </tr>\n",
       "    <tr>\n",
       "      <th>max</th>\n",
       "      <td>2020.000000</td>\n",
       "      <td>1.000000e+07</td>\n",
       "      <td>2.360457e+06</td>\n",
       "      <td>3.000000</td>\n",
       "      <td>2.000000</td>\n",
       "      <td>1.000000</td>\n",
       "      <td>4.000000</td>\n",
       "      <td>3344.000000</td>\n",
       "      <td>3604.000000</td>\n",
       "      <td>108495.000000</td>\n",
       "      <td>14.000000</td>\n",
       "    </tr>\n",
       "  </tbody>\n",
       "</table>\n",
       "</div>"
      ],
      "text/plain": [
       "              year  SellingPrice      kmDriven         fuel       Seller  \\\n",
       "count  7906.000000  7.906000e+03  7.906000e+03  7906.000000  7906.000000   \n",
       "mean   2013.983936  6.498137e+05  6.918866e+04     0.473817     0.199722   \n",
       "std       3.863695  8.135827e+05  5.679230e+04     0.545591     0.468575   \n",
       "min    1994.000000  2.999900e+04  1.000000e+00     0.000000     0.000000   \n",
       "25%    2012.000000  2.700000e+05  3.500000e+04     0.000000     0.000000   \n",
       "50%    2015.000000  4.500000e+05  6.000000e+04     0.000000     0.000000   \n",
       "75%    2017.000000  6.900000e+05  9.542500e+04     1.000000     0.000000   \n",
       "max    2020.000000  1.000000e+07  2.360457e+06     3.000000     2.000000   \n",
       "\n",
       "       transmission        owner      mileage       engine       maxPower  \\\n",
       "count   7906.000000  7906.000000  7906.000000  7906.000000    7906.000000   \n",
       "mean       0.131672     0.447255   947.702378  1458.708829    2766.125348   \n",
       "std        0.338155     0.710854   925.336832   503.893057    5162.123778   \n",
       "min        0.000000     0.000000     0.000000   624.000000      35.000000   \n",
       "25%        0.000000     0.000000   185.000000  1197.000000     100.000000   \n",
       "50%        0.000000     0.000000   240.000000  1248.000000     739.000000   \n",
       "75%        0.000000     1.000000  1944.000000  1582.000000    3748.000000   \n",
       "max        1.000000     4.000000  3344.000000  3604.000000  108495.000000   \n",
       "\n",
       "             Seats  \n",
       "count  7906.000000  \n",
       "mean      5.416393  \n",
       "std       0.959208  \n",
       "min       2.000000  \n",
       "25%       5.000000  \n",
       "50%       5.000000  \n",
       "75%       5.000000  \n",
       "max      14.000000  "
      ]
     },
     "execution_count": 11,
     "metadata": {},
     "output_type": "execute_result"
    }
   ],
   "source": [
    "NewDataSet.describe()"
   ]
  },
  {
   "cell_type": "markdown",
   "id": "73ffdd09",
   "metadata": {},
   "source": [
    "And here, we scatter plot the selling price with all the other parameters to inspect for relations between them. "
   ]
  },
  {
   "cell_type": "code",
   "execution_count": 12,
   "id": "751356a3",
   "metadata": {},
   "outputs": [
    {
     "data": {
      "text/plain": [
       "<seaborn.axisgrid.PairGrid at 0x7f2e1dda2160>"
      ]
     },
     "execution_count": 12,
     "metadata": {},
     "output_type": "execute_result"
    },
    {
     "data": {
      "image/png": "[encoded data removed]",
      "text/plain": [
       "<Figure size 1800x180 with 10 Axes>"
      ]
     },
     "metadata": {
      "needs_background": "light"
     },
     "output_type": "display_data"
    }
   ],
   "source": [
    "sb.pairplot(data=NewDataSet,\n",
    "                  x_vars=['year', 'kmDriven', 'fuel', 'Seller', 'transmission', 'owner', 'mileage', 'engine', 'maxPower', 'Seats'],\n",
    "                  y_vars=['SellingPrice'])"
   ]
  },
  {
   "cell_type": "markdown",
   "id": "bb590dc0",
   "metadata": {},
   "source": [
    "We can see from the graph above, that some of the values just doesn't make sense or are just impossible in real life (for example: mileage > 200 or horsepower > 100000), this is very common in hand typed datasets where human caused error is present, especially with large datasets,\n",
    "we can just remove those values as shown below :"
   ]
  },
  {
   "cell_type": "code",
   "execution_count": 13,
   "id": "7b1ef710",
   "metadata": {},
   "outputs": [
    {
     "data": {
      "text/plain": [
       "(3329, 11)"
      ]
     },
     "execution_count": 13,
     "metadata": {},
     "output_type": "execute_result"
    }
   ],
   "source": [
    "NewDataSet = NewDataSet[NewDataSet[\"kmDriven\"]<=700000]\n",
    "NewDataSet = NewDataSet[NewDataSet[\"maxPower\"]<=30000]\n",
    "NewDataSet = NewDataSet[NewDataSet[\"mileage\"]>1000]/100\n",
    "NewDataSet.shape"
   ]
  },
  {
   "cell_type": "code",
   "execution_count": 14,
   "id": "13b2d61a",
   "metadata": {},
   "outputs": [
    {
     "data": {
      "text/plain": [
       "<seaborn.axisgrid.PairGrid at 0x7f2e1bb31a30>"
      ]
     },
     "execution_count": 14,
     "metadata": {},
     "output_type": "execute_result"
    },
    {
     "data": {
      "image/png": "[encoded data removed]",
      "text/plain": [
       "<Figure size 1800x180 with 10 Axes>"
      ]
     },
     "metadata": {
      "needs_background": "light"
     },
     "output_type": "display_data"
    }
   ],
   "source": [
    "sb.pairplot(data=NewDataSet,\n",
    "                  x_vars=['year', 'kmDriven', 'fuel', 'Seller', 'transmission', 'owner', 'mileage', 'engine', 'maxPower', 'Seats'],\n",
    "                  y_vars=['SellingPrice'])"
   ]
  },
  {
   "cell_type": "markdown",
   "id": "2644a2e6",
   "metadata": {},
   "source": [
    "We can see from the graph below that the Selling price have some relation with the following columns :\n",
    "* Year\n",
    "* kmDriven\n",
    "* owner\n",
    "* mileage\n",
    "* engine\n",
    "* maxPower\n",
    "* Seats "
   ]
  },
  {
   "cell_type": "markdown",
   "id": "8e9ebe66",
   "metadata": {},
   "source": [
    "## Preparing for Training :\n",
    "Before we train our model we first have to separate our dataset to 2 seperate DataFrames:\n",
    "* Features : which contains the input for the model\n",
    "* Labels : the expected output<br> \n",
    "(in our case :\n",
    "* the features contains : Year, kmDriven, owner, mileage, engine, maxPower, seats\n",
    "* the label is the selling price)"
   ]
  },
  {
   "cell_type": "code",
   "execution_count": 15,
   "id": "974971c3",
   "metadata": {},
   "outputs": [],
   "source": [
    "X = NewDataSet.drop([\"SellingPrice\", \"fuel\", \"Seller\", \"transmission\"], axis = 1)\n",
    "Y = pd.DataFrame({\"SellingPrice\" : NewDataSet[\"SellingPrice\"]})"
   ]
  },
  {
   "cell_type": "code",
   "execution_count": 16,
   "id": "2aae38b3",
   "metadata": {},
   "outputs": [],
   "source": [
    "X_train, X_test, Y_train, Y_test = train_test_split(X, Y, random_state=1)"
   ]
  },
  {
   "cell_type": "markdown",
   "id": "ee6834d8",
   "metadata": {},
   "source": [
    "Instansiating our  neural network model inside a pipeline, this pipeline contains a StandardScaler which allows us to normalize the input for our model, it also contains an MLPRegressor (Multi-Layer Perceptron Regressor) with 2 hidden Layers each containing 64 nodes.\n",
    "\n",
    "After that we fit our model."
   ]
  },
  {
   "cell_type": "code",
   "execution_count": 17,
   "id": "eb9cb359",
   "metadata": {},
   "outputs": [
    {
     "name": "stderr",
     "output_type": "stream",
     "text": [
      "/home/chiheb/.local/lib/python3.8/site-packages/sklearn/neural_network/_multilayer_perceptron.py:1599: DataConversionWarning: A column-vector y was passed when a 1d array was expected. Please change the shape of y to (n_samples, ), for example using ravel().\n",
      "  y = column_or_1d(y, warn=True)\n"
     ]
    },
    {
     "data": {
      "text/plain": [
       "Pipeline(steps=[('standardscaler', StandardScaler()),\n",
       "                ('mlpregressor',\n",
       "                 MLPRegressor(alpha=0.0005, hidden_layer_sizes=(64, 64),\n",
       "                              learning_rate_init=0.005, max_iter=10000))])"
      ]
     },
     "execution_count": 17,
     "metadata": {},
     "output_type": "execute_result"
    }
   ],
   "source": [
    "regressor = make_pipeline(\n",
    "    StandardScaler(),\n",
    "    MLPRegressor(\n",
    "        hidden_layer_sizes = (64, 64), \n",
    "        activation = \"relu\",\n",
    "        solver = \"adam\",\n",
    "        alpha = 0.0005,\n",
    "        learning_rate='constant', \n",
    "        learning_rate_init=0.005,\n",
    "        max_iter = 10000\n",
    "    )\n",
    ")\n",
    "\n",
    "regressor.fit(X_train, Y_train)\n"
   ]
  },
  {
   "cell_type": "markdown",
   "id": "1ceb3e82",
   "metadata": {},
   "source": [
    "As we can see below our model has an over-all accuracy of 97.75% when tested with the test data we created earlier :"
   ]
  },
  {
   "cell_type": "code",
   "execution_count": 18,
   "id": "d33d329f",
   "metadata": {},
   "outputs": [
    {
     "data": {
      "text/plain": [
       "0.9774887539186584"
      ]
     },
     "execution_count": 18,
     "metadata": {},
     "output_type": "execute_result"
    }
   ],
   "source": [
    "(regressor.score(X_test, Y_test))**0.5"
   ]
  },
  {
   "cell_type": "markdown",
   "id": "f2988705",
   "metadata": {},
   "source": [
    "Here, we make a direct comparison between the expected selling price and the predicted selling price :"
   ]
  },
  {
   "cell_type": "code",
   "execution_count": 19,
   "id": "abc19088",
   "metadata": {},
   "outputs": [
    {
     "data": {
      "text/html": [
       "<div>\n",
       "<style scoped>\n",
       "    .dataframe tbody tr th:only-of-type {\n",
       "        vertical-align: middle;\n",
       "    }\n",
       "\n",
       "    .dataframe tbody tr th {\n",
       "        vertical-align: top;\n",
       "    }\n",
       "\n",
       "    .dataframe thead th {\n",
       "        text-align: right;\n",
       "    }\n",
       "</style>\n",
       "<table border=\"1\" class=\"dataframe\">\n",
       "  <thead>\n",
       "    <tr style=\"text-align: right;\">\n",
       "      <th></th>\n",
       "      <th>Expected</th>\n",
       "      <th>Predicted</th>\n",
       "    </tr>\n",
       "  </thead>\n",
       "  <tbody>\n",
       "    <tr>\n",
       "      <th>7125</th>\n",
       "      <td>33500.00</td>\n",
       "      <td>35266.566733</td>\n",
       "    </tr>\n",
       "    <tr>\n",
       "      <th>1440</th>\n",
       "      <td>8500.00</td>\n",
       "      <td>7722.422296</td>\n",
       "    </tr>\n",
       "    <tr>\n",
       "      <th>2357</th>\n",
       "      <td>5000.00</td>\n",
       "      <td>4863.897270</td>\n",
       "    </tr>\n",
       "    <tr>\n",
       "      <th>2691</th>\n",
       "      <td>5099.99</td>\n",
       "      <td>5383.063916</td>\n",
       "    </tr>\n",
       "    <tr>\n",
       "      <th>1224</th>\n",
       "      <td>1250.00</td>\n",
       "      <td>2440.586752</td>\n",
       "    </tr>\n",
       "  </tbody>\n",
       "</table>\n",
       "</div>"
      ],
      "text/plain": [
       "      Expected     Predicted\n",
       "7125  33500.00  35266.566733\n",
       "1440   8500.00   7722.422296\n",
       "2357   5000.00   4863.897270\n",
       "2691   5099.99   5383.063916\n",
       "1224   1250.00   2440.586752"
      ]
     },
     "execution_count": 19,
     "metadata": {},
     "output_type": "execute_result"
    }
   ],
   "source": [
    "results = pd.DataFrame({\n",
    "    \"Expected\" : (Y_test[\"SellingPrice\"]), \n",
    "    \"Predicted\" :(regressor.predict(X_test))\n",
    "})\n",
    "\n",
    "results.head()"
   ]
  },
  {
   "cell_type": "markdown",
   "id": "3875ab09",
   "metadata": {},
   "source": [
    "All in all, the model is quite accurate for most cases, but is a bit hit-or-miss depending on the input, as we can see below, most of the time, the model will work as expected !"
   ]
  },
  {
   "cell_type": "code",
   "execution_count": 20,
   "id": "9ad6a477",
   "metadata": {},
   "outputs": [
    {
     "data": {
      "text/html": [
       "<div>\n",
       "<style scoped>\n",
       "    .dataframe tbody tr th:only-of-type {\n",
       "        vertical-align: middle;\n",
       "    }\n",
       "\n",
       "    .dataframe tbody tr th {\n",
       "        vertical-align: top;\n",
       "    }\n",
       "\n",
       "    .dataframe thead th {\n",
       "        text-align: right;\n",
       "    }\n",
       "</style>\n",
       "<table border=\"1\" class=\"dataframe\">\n",
       "  <thead>\n",
       "    <tr style=\"text-align: right;\">\n",
       "      <th></th>\n",
       "      <th>Expected</th>\n",
       "      <th>Predicted</th>\n",
       "    </tr>\n",
       "  </thead>\n",
       "  <tbody>\n",
       "    <tr>\n",
       "      <th>count</th>\n",
       "      <td>833.000000</td>\n",
       "      <td>833.000000</td>\n",
       "    </tr>\n",
       "    <tr>\n",
       "      <th>mean</th>\n",
       "      <td>7687.802737</td>\n",
       "      <td>7724.883712</td>\n",
       "    </tr>\n",
       "    <tr>\n",
       "      <th>std</th>\n",
       "      <td>9595.441682</td>\n",
       "      <td>9473.098670</td>\n",
       "    </tr>\n",
       "    <tr>\n",
       "      <th>min</th>\n",
       "      <td>600.000000</td>\n",
       "      <td>-4771.089065</td>\n",
       "    </tr>\n",
       "    <tr>\n",
       "      <th>25%</th>\n",
       "      <td>3200.000000</td>\n",
       "      <td>3240.470913</td>\n",
       "    </tr>\n",
       "    <tr>\n",
       "      <th>50%</th>\n",
       "      <td>5150.000000</td>\n",
       "      <td>5182.749003</td>\n",
       "    </tr>\n",
       "    <tr>\n",
       "      <th>75%</th>\n",
       "      <td>7400.000000</td>\n",
       "      <td>7467.591467</td>\n",
       "    </tr>\n",
       "    <tr>\n",
       "      <th>max</th>\n",
       "      <td>60000.000000</td>\n",
       "      <td>58983.081762</td>\n",
       "    </tr>\n",
       "  </tbody>\n",
       "</table>\n",
       "</div>"
      ],
      "text/plain": [
       "           Expected     Predicted\n",
       "count    833.000000    833.000000\n",
       "mean    7687.802737   7724.883712\n",
       "std     9595.441682   9473.098670\n",
       "min      600.000000  -4771.089065\n",
       "25%     3200.000000   3240.470913\n",
       "50%     5150.000000   5182.749003\n",
       "75%     7400.000000   7467.591467\n",
       "max    60000.000000  58983.081762"
      ]
     },
     "execution_count": 20,
     "metadata": {},
     "output_type": "execute_result"
    }
   ],
   "source": [
    "results.describe()"
   ]
  },
  {
   "cell_type": "markdown",
   "id": "2cac7551",
   "metadata": {},
   "source": [
    "We Use Pickle to save the Model Object as a binary file that you can use in other projects as shown below :"
   ]
  },
  {
   "cell_type": "code",
   "execution_count": 21,
   "id": "e14821ef",
   "metadata": {},
   "outputs": [],
   "source": [
    "pickle.dump(regressor, open(\"Regressor\", 'wb'))"
   ]
  },
  {
   "cell_type": "code",
   "execution_count": 22,
   "id": "adbd4dfb",
   "metadata": {},
   "outputs": [
    {
     "data": {
      "text/plain": [
       "array([35266.56673323])"
      ]
     },
     "execution_count": 22,
     "metadata": {},
     "output_type": "execute_result"
    }
   ],
   "source": [
    "LoadedModel = pickle.load(open(\"Regressor\", 'rb'))\n",
    "LoadedModel.predict(X_test[:1])"
   ]
  }
 ],
 "metadata": {
  "kernelspec": {
   "display_name": "Python 3 (ipykernel)",
   "language": "python",
   "name": "python3"
  },
  "language_info": {
   "codemirror_mode": {
    "name": "ipython",
    "version": 3
   },
   "file_extension": ".py",
   "mimetype": "text/x-python",
   "name": "python",
   "nbconvert_exporter": "python",
   "pygments_lexer": "ipython3",
   "version": "3.8.10"
  }
 },
 "nbformat": 4,
 "nbformat_minor": 5
}
